{
 "cells": [
  {
   "cell_type": "markdown",
   "metadata": {},
   "source": [
    "# stress function\n",
    "\n",
    "In this section we write the basic equations of plant related and soil related stresses\n",
    "\n"
   ]
  },
  {
   "cell_type": "code",
   "execution_count": 3,
   "metadata": {
    "collapsed": false
   },
   "outputs": [
    {
     "name": "stdout",
     "output_type": "stream",
     "text": [
      "2.30258509299\n"
     ]
    },
    {
     "name": "stderr",
     "output_type": "stream",
     "text": [
      "C:\\Users\\mjavaux\\AppData\\Local\\Enthought\\Canopy\\edm\\envs\\User\\lib\\site-packages\\ipykernel_launcher.py:33: RuntimeWarning: divide by zero encountered in reciprocal\n",
      "C:\\Users\\mjavaux\\AppData\\Local\\Enthought\\Canopy\\edm\\envs\\User\\lib\\site-packages\\ipykernel_launcher.py:38: RuntimeWarning: divide by zero encountered in power\n",
      "C:\\Users\\mjavaux\\AppData\\Local\\Enthought\\Canopy\\edm\\envs\\User\\lib\\site-packages\\ipykernel_launcher.py:40: RuntimeWarning: divide by zero encountered in power\n"
     ]
    }
   ],
   "source": [
    "'''\n",
    "Created on 03.05.2018\n",
    "\n",
    "@author: Mathieu\n",
    "'''\n",
    "import numpy as np\n",
    "import matplotlib.pyplot as plt\n",
    "import math\n",
    "import scipy.integrate\n",
    "import scipy.special as sp\n",
    "\n",
    "\n",
    "#root parameters\n",
    "Rroot=2*10^7;                   #hPa cm^-3 s; Root resistance\n",
    "r0= 0.05;                       #cm root radius in cm\n",
    "r2= 1;                          #bulk+root+rhizo soil radius in cm\n",
    "L = 1000;                       #root length in cm\n",
    "\n",
    "# van Genuchten-Mualem parameters\n",
    "h0=-10.0;                         #% cm^-1 alpha VG\n",
    "l=1;                            #lambda\n",
    "ths=0.45;                       # - saturated water content\n",
    "thr=0.01;                       # - residual water content\n",
    "k0=10**(-2);                    # cm/s saturated conductivity\n",
    "tau=3.0;                          # corresponding to 2+l*(a+2) with l exp for theta(h) and a tortusoity \n",
    "\n",
    "#pressure heads in hPa and <0\n",
    "hb=-np.arange(10,20010,100);            #hPa bulk soil water potential\n",
    "hroot=-np.arange(10,50010,100);         #hPa soil:root water potential\n",
    "\n",
    "#calculate water retention, hydraulic conductivity and matric flux potential\n",
    "hx=-np.arange(0,15010,1);                  \n",
    "thx=(hx/h0)**(-l);\n",
    "thx=thx*(ths-thr)+thr;\n",
    "thx[1]=0.45\n",
    "thx[np.where(thx>0.45)]=0.45\n",
    "\n",
    "kx=k0*(hx/h0)**(-tau);\n",
    "kx[np.where(kx>k0)]=k0;\n",
    "fix=k0/(1-tau)/(h0**(-tau))*hx**(1-tau); # Matric flux potential\n",
    "\n",
    "# plots\n",
    "fig=plt.figure()\n",
    "ax = fig.add_subplot(2, 1, 1)\n",
    "ax.plot(abs(hx),thx)\n",
    "plt.xlabel('matric head (cm)',fontsize=20);\n",
    "plt.ylabel('Theta',fontsize=20);\n",
    "ax.set_xscale('log')\n",
    "plt.show()\n",
    "ax = fig.add_subplot(2, 1, 2)\n",
    "ax.plot(hx,kx)\n",
    "plt.xlabel('matric head (cm)',fontsize=20);\n",
    "plt.ylabel('Theta',fontsize=20);\n",
    "ax.set_yscale('log')\n",
    "\n",
    "plt.show()\n"
   ]
  },
  {
   "cell_type": "code",
   "execution_count": null,
   "metadata": {
    "collapsed": true
   },
   "outputs": [],
   "source": [
    "#radial domain\n",
    "r=np.arange(r0,r2,0.01);\n",
    "dr=(r2-r0)/(len(r)-1);\n",
    "rho=r2/r0;\n",
    "B=2*(1-rho**2)/(2*rho**2*(np.log(rho)-0.5)+1);\n",
    "print(np.log(10))\n",
    "# compute Gardner\n",
    "\n",
    "# compute Couvreur"
   ]
  },
  {
   "cell_type": "code",
   "execution_count": null,
   "metadata": {
    "collapsed": true
   },
   "outputs": [],
   "source": []
  },
  {
   "cell_type": "code",
   "execution_count": null,
   "metadata": {
    "collapsed": true
   },
   "outputs": [],
   "source": []
  }
 ],
 "metadata": {
  "kernelspec": {
   "display_name": "Python 3",
   "language": "python",
   "name": "python3"
  },
  "language_info": {
   "codemirror_mode": {
    "name": "ipython",
    "version": 3
   },
   "file_extension": ".py",
   "mimetype": "text/x-python",
   "name": "python",
   "nbconvert_exporter": "python",
   "pygments_lexer": "ipython3",
   "version": "3.5.2"
  }
 },
 "nbformat": 4,
 "nbformat_minor": 2
}
