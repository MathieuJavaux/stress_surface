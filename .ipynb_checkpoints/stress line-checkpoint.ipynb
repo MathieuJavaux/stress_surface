{
 "cells": [
  {
   "cell_type": "markdown",
   "metadata": {
    "deletable": true,
    "editable": true
   },
   "source": [
    "# surface and stress line\n",
    "\n",
    "This explains the analytical development between surfaces and red lines\n",
    "\n",
    "We have two equations describing the soil and root limitation to water flow.\n",
    "\n",
    "The Gardner equation writes:\n",
    "\n",
    "\\begin{eqnarray} \n",
    "E= \\kappa \\left( \\frac{1}{\\psi_b^2} - \\frac{1}{\\psi_{sri}^2} \\right),\n",
    "\\end{eqnarray}\n",
    "\n",
    "where $\\psi_b$ is the bulk soil water potential, $\\psi_{sri}$ is the soil root interface water potential and $\\kappa$ a factor coming from the solution of the Gardner equation with a given coductivity function. It is defined as:\n",
    "\n",
    "\\begin{eqnarray} \n",
    "\\kappa=2 \\frac{\\pi B L K_0 }{1-\\tau} \\left(  \\frac{1}{h_0}   \\right)^{-\\tau}\n",
    "\\end{eqnarray}"
   ]
  },
  {
   "cell_type": "code",
   "execution_count": 2,
   "metadata": {
    "collapsed": false,
    "deletable": true,
    "editable": true
   },
   "outputs": [],
   "source": [
    "from sympy import *\n",
    "from sympy.solvers.inequalities import reduce_inequalities\n",
    "\n",
    "Egardner=Symbol('EG')\n",
    "Ecouvreur=Symbol('EC')\n",
    "PsiL = Symbol('PsiL',real=True, postive=False, nonzero=True)\n",
    "PsiB=Symbol('PsiB',real=True, postive=False, nonzero=True)\n",
    "PsiSRI=Symbol('PsiSRI',real=True, postive=False, nonzero=True)\n",
    "Krs=Symbol('Krs',real=True, postive=True, nonzero=True)\n",
    "kappa=Symbol('kappa',real=True, postive=True, nonzero=True)\n",
    "\n",
    "EG=kappa*(1/PsiB**2-1/PsiSRI**2)\n"
   ]
  },
  {
   "cell_type": "markdown",
   "metadata": {
    "deletable": true,
    "editable": true
   },
   "source": [
    "The Couvreur equation writes\n",
    "\n",
    "\\begin{eqnarray} \n",
    "E= K_{rs} \\left( \\psi_{sri} - \\psi_L \\right),\n",
    "\\end{eqnarray}\n",
    "\n",
    "where $\\psi_L$ is the leaf water potential and $K_{rs}$ the root system conductivity. Typically Couvreur and Gardner can be combined and would result in a 3D surface in the $\\psi_L / \\psi_B / E$ domain. When the two equations are combiend, we can find the surface equation:\n"
   ]
  },
  {
   "cell_type": "code",
   "execution_count": 3,
   "metadata": {
    "collapsed": false,
    "deletable": true,
    "editable": true
   },
   "outputs": [
    {
     "data": {
      "text/plain": [
       "[-PsiSRI*sqrt(kappa/(-Krs*PsiL*PsiSRI**2 + Krs*PsiSRI**3 + kappa)),\n",
       " PsiSRI*sqrt(kappa/(-Krs*PsiL*PsiSRI**2 + Krs*PsiSRI**3 + kappa))]"
      ]
     },
     "execution_count": 3,
     "metadata": {},
     "output_type": "execute_result"
    }
   ],
   "source": [
    "EC=Krs*(PsiSRI-PsiL)\n",
    "\n",
    "solve(Eq(EC,EG),PsiB)"
   ]
  },
  {
   "cell_type": "markdown",
   "metadata": {
    "deletable": true,
    "editable": true
   },
   "source": [
    "We can find the threshold line between the Couvreur and Gardner surfaces by assuming to extreme situations: on one hand,  when soil resistance is negligible, $\\psi_{SRI}$=$\\psi_L$ in Gardner equation. On the other hand, if we assume that root resistance is negligible, $\\psi_{SRI}$=$\\psi_B$ in Couvreur equation. By equaling these two extreme cases and factorize, we find three solutions for \\psi_B$:\n"
   ]
  },
  {
   "cell_type": "code",
   "execution_count": 4,
   "metadata": {
    "collapsed": false,
    "deletable": true,
    "editable": true
   },
   "outputs": [
    {
     "data": {
      "text/plain": [
       "[PsiL,\n",
       " -(kappa - sqrt(-4*Krs*PsiL**3*kappa + kappa**2))/(2*Krs*PsiL**2),\n",
       " -(kappa + sqrt(-4*Krs*PsiL**3*kappa + kappa**2))/(2*Krs*PsiL**2)]"
      ]
     },
     "execution_count": 4,
     "metadata": {},
     "output_type": "execute_result"
    }
   ],
   "source": [
    "equation=Krs*(PsiB-PsiL)-kappa*(1/PsiB**2-1/PsiL**2)\n",
    "solve(equation,PsiB)"
   ]
  },
  {
   "cell_type": "markdown",
   "metadata": {
    "deletable": true,
    "editable": true
   },
   "source": [
    "The first solution is $\\psi_L=\\psi_B$ when $E=0$.\n",
    "\n",
    "The two other solutions must lead to negative values larger than $psi_L$"
   ]
  },
  {
   "cell_type": "code",
   "execution_count": 10,
   "metadata": {
    "collapsed": false,
    "deletable": true,
    "editable": true,
    "scrolled": true
   },
   "outputs": [
    {
     "ename": "TypeError",
     "evalue": "unhashable type: 'list'",
     "output_type": "error",
     "traceback": [
      "\u001b[1;31m\u001b[0m",
      "\u001b[1;31mTypeError\u001b[0mTraceback (most recent call last)",
      "\u001b[1;32m<ipython-input-10-f726b53014d9>\u001b[0m in \u001b[0;36m<module>\u001b[1;34m()\u001b[0m\n\u001b[1;32m----> 1\u001b[1;33m \u001b[0msolve\u001b[0m\u001b[1;33m(\u001b[0m\u001b[1;33m(\u001b[0m\u001b[1;33m-\u001b[0m\u001b[1;33m(\u001b[0m\u001b[0mkappa\u001b[0m \u001b[1;33m-\u001b[0m \u001b[0msqrt\u001b[0m\u001b[1;33m(\u001b[0m\u001b[1;33m-\u001b[0m\u001b[1;36m4\u001b[0m\u001b[1;33m*\u001b[0m\u001b[0mKrs\u001b[0m\u001b[1;33m*\u001b[0m\u001b[0mPsiL\u001b[0m\u001b[1;33m**\u001b[0m\u001b[1;36m3\u001b[0m\u001b[1;33m*\u001b[0m\u001b[0mkappa\u001b[0m \u001b[1;33m+\u001b[0m \u001b[0mkappa\u001b[0m\u001b[1;33m**\u001b[0m\u001b[1;36m2\u001b[0m\u001b[1;33m)\u001b[0m\u001b[1;33m)\u001b[0m\u001b[1;33m/\u001b[0m\u001b[1;33m(\u001b[0m\u001b[1;36m2\u001b[0m\u001b[1;33m*\u001b[0m\u001b[0mKrs\u001b[0m\u001b[1;33m*\u001b[0m\u001b[0mPsiL\u001b[0m\u001b[1;33m**\u001b[0m\u001b[1;36m2\u001b[0m\u001b[1;33m)\u001b[0m\u001b[1;33m)\u001b[0m\u001b[1;33m>\u001b[0m\u001b[0mPsiL\u001b[0m\u001b[1;33m,\u001b[0m\u001b[1;33m[\u001b[0m\u001b[0mPsiL\u001b[0m\u001b[1;33m]\u001b[0m\u001b[1;33m)\u001b[0m\u001b[1;33m\u001b[0m\u001b[0m\n\u001b[0m\u001b[0;32m      2\u001b[0m \u001b[1;33m\u001b[0m\u001b[0m\n\u001b[0;32m      3\u001b[0m \u001b[1;33m\u001b[0m\u001b[0m\n",
      "\u001b[1;32mC:\\Users\\mjavaux\\AppData\\Local\\Enthought\\Canopy\\edm\\envs\\User\\lib\\site-packages\\sympy\\solvers\\solvers.pyc\u001b[0m in \u001b[0;36msolve\u001b[1;34m(f, *symbols, **flags)\u001b[0m\n\u001b[0;32m    830\u001b[0m             \u001b[0mf\u001b[0m\u001b[1;33m[\u001b[0m\u001b[0mi\u001b[0m\u001b[1;33m]\u001b[0m \u001b[1;33m=\u001b[0m \u001b[0mfi\u001b[0m\u001b[1;33m.\u001b[0m\u001b[0mas_expr\u001b[0m\u001b[1;33m(\u001b[0m\u001b[1;33m)\u001b[0m\u001b[1;33m\u001b[0m\u001b[0m\n\u001b[0;32m    831\u001b[0m         \u001b[1;32melif\u001b[0m \u001b[0misinstance\u001b[0m\u001b[1;33m(\u001b[0m\u001b[0mfi\u001b[0m\u001b[1;33m,\u001b[0m \u001b[1;33m(\u001b[0m\u001b[0mbool\u001b[0m\u001b[1;33m,\u001b[0m \u001b[0mBooleanAtom\u001b[0m\u001b[1;33m)\u001b[0m\u001b[1;33m)\u001b[0m \u001b[1;32mor\u001b[0m \u001b[0mfi\u001b[0m\u001b[1;33m.\u001b[0m\u001b[0mis_Relational\u001b[0m\u001b[1;33m:\u001b[0m\u001b[1;33m\u001b[0m\u001b[0m\n\u001b[1;32m--> 832\u001b[1;33m             \u001b[1;32mreturn\u001b[0m \u001b[0mreduce_inequalities\u001b[0m\u001b[1;33m(\u001b[0m\u001b[0mf\u001b[0m\u001b[1;33m,\u001b[0m \u001b[0msymbols\u001b[0m\u001b[1;33m=\u001b[0m\u001b[0msymbols\u001b[0m\u001b[1;33m)\u001b[0m\u001b[1;33m\u001b[0m\u001b[0m\n\u001b[0m\u001b[0;32m    833\u001b[0m \u001b[1;33m\u001b[0m\u001b[0m\n\u001b[0;32m    834\u001b[0m         \u001b[1;31m# rewrite hyperbolics in terms of exp\u001b[0m\u001b[1;33m\u001b[0m\u001b[1;33m\u001b[0m\u001b[0m\n",
      "\u001b[1;32mC:\\Users\\mjavaux\\AppData\\Local\\Enthought\\Canopy\\edm\\envs\\User\\lib\\site-packages\\sympy\\solvers\\inequalities.pyc\u001b[0m in \u001b[0;36mreduce_inequalities\u001b[1;34m(inequalities, symbols)\u001b[0m\n\u001b[0;32m    584\u001b[0m     \u001b[1;32mif\u001b[0m \u001b[1;32mnot\u001b[0m \u001b[0miterable\u001b[0m\u001b[1;33m(\u001b[0m\u001b[0msymbols\u001b[0m\u001b[1;33m)\u001b[0m\u001b[1;33m:\u001b[0m\u001b[1;33m\u001b[0m\u001b[0m\n\u001b[0;32m    585\u001b[0m         \u001b[0msymbols\u001b[0m \u001b[1;33m=\u001b[0m \u001b[1;33m[\u001b[0m\u001b[0msymbols\u001b[0m\u001b[1;33m]\u001b[0m\u001b[1;33m\u001b[0m\u001b[0m\n\u001b[1;32m--> 586\u001b[1;33m     \u001b[0msymbols\u001b[0m \u001b[1;33m=\u001b[0m \u001b[1;33m(\u001b[0m\u001b[0mset\u001b[0m\u001b[1;33m(\u001b[0m\u001b[0msymbols\u001b[0m\u001b[1;33m)\u001b[0m \u001b[1;32mor\u001b[0m \u001b[0mgens\u001b[0m\u001b[1;33m)\u001b[0m \u001b[1;33m&\u001b[0m \u001b[0mgens\u001b[0m\u001b[1;33m\u001b[0m\u001b[0m\n\u001b[0m\u001b[0;32m    587\u001b[0m     \u001b[1;32mif\u001b[0m \u001b[0many\u001b[0m\u001b[1;33m(\u001b[0m\u001b[0mi\u001b[0m\u001b[1;33m.\u001b[0m\u001b[0mis_real\u001b[0m \u001b[1;32mis\u001b[0m \u001b[0mFalse\u001b[0m \u001b[1;32mfor\u001b[0m \u001b[0mi\u001b[0m \u001b[1;32min\u001b[0m \u001b[0msymbols\u001b[0m\u001b[1;33m)\u001b[0m\u001b[1;33m:\u001b[0m\u001b[1;33m\u001b[0m\u001b[0m\n\u001b[0;32m    588\u001b[0m         raise TypeError(filldedent('''\n",
      "\u001b[1;31mTypeError\u001b[0m: unhashable type: 'list'"
     ]
    }
   ],
   "source": [
    "solve((-(kappa - sqrt(-4*Krs*PsiL**3*kappa + kappa**2))/(2*Krs*PsiL**2))>PsiL,[PsiL])\n",
    "\n",
    "\n"
   ]
  },
  {
   "cell_type": "markdown",
   "metadata": {
    "collapsed": true,
    "deletable": true,
    "editable": true
   },
   "source": [
    "We have:\n",
    "\\begin{eqnarray} \n",
    "2K_{rs} \\psi_L^3 + \\kappa < \\sqrt \\left(-4*Krs*PsiL^3*\\kappa + kappa^2 \\right,\n",
    "\\end{eqnarray}\n",
    "$)$\n",
    "$2*Krs*PsiL^3+kappa<-sqrt(-4*Krs*PsiL^3*kappa + kappa^2))$\n",
    "\n",
    "and:\n",
    "$4*Krs^2*PsiL^6+kappa^2+4*kappa*Krs*PsiL^3 <-4*Krs*PsiL^3*kappa + kappa^2$\n",
    "$4*Krs^2*PsiL^6+kappa^2+4*kappa*Krs*PsiL^3 <4*Krs*PsiL^3*kappa - kappa^2$ is impossible "
   ]
  },
  {
   "cell_type": "code",
   "execution_count": 30,
   "metadata": {
    "collapsed": false,
    "deletable": true,
    "editable": true
   },
   "outputs": [
    {
     "data": {
      "text/plain": [
       "Ks*psi0*Piecewise((log(Psi/psi0), Eq(-tau, -1)), ((Psi/psi0)**(-tau + 1)/(-tau + 1), True))"
      ]
     },
     "execution_count": 30,
     "metadata": {},
     "output_type": "execute_result"
    }
   ],
   "source": [
    "conduct=Symbol('conduct')\n",
    "phi=Symbol('phi')\n",
    "psi0=Symbol('psi0')\n",
    "Ks=Symbol('Ks')\n",
    "Psi=Symbol('Psi')\n",
    "tau=Symbol('tau')\n",
    "\n",
    "conduct=Ks*(Psi/psi0)**(-tau)\n",
    "integrate(conduct,Psi)\n",
    "\n"
   ]
  },
  {
   "cell_type": "code",
   "execution_count": null,
   "metadata": {
    "collapsed": true
   },
   "outputs": [],
   "source": []
  },
  {
   "cell_type": "code",
   "execution_count": null,
   "metadata": {
    "collapsed": true
   },
   "outputs": [],
   "source": []
  },
  {
   "cell_type": "code",
   "execution_count": null,
   "metadata": {
    "collapsed": true
   },
   "outputs": [],
   "source": []
  },
  {
   "cell_type": "code",
   "execution_count": null,
   "metadata": {
    "collapsed": true
   },
   "outputs": [],
   "source": []
  }
 ],
 "metadata": {
  "kernelspec": {
   "display_name": "Python 2",
   "language": "python",
   "name": "python2"
  },
  "language_info": {
   "codemirror_mode": {
    "name": "ipython",
    "version": 2
   },
   "file_extension": ".py",
   "mimetype": "text/x-python",
   "name": "python",
   "nbconvert_exporter": "python",
   "pygments_lexer": "ipython2",
   "version": "2.7.13"
  }
 },
 "nbformat": 4,
 "nbformat_minor": 2
}
