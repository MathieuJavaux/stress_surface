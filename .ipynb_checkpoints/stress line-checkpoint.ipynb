{
 "cells": [
  {
   "cell_type": "markdown",
   "metadata": {
    "deletable": true,
    "editable": true
   },
   "source": [
    "# surface and stress line\n",
    "\n",
    "This explains the analytical development between surfaces and red lines\n",
    "\n",
    "We have two equations describing the soil and root limitation to water flow.\n",
    "\n",
    "The Gardner equation writes:\n",
    "\n",
    "\\begin{eqnarray} \n",
    "E= \\kappa \\left( \\frac{1}{\\psi_b^2} - \\frac{1}{\\psi_{sri}^2} \\right),\n",
    "\\end{eqnarray}\n",
    "\n",
    "where $\\psi_b$ is the bulk soil water potential, $\\psi_{sri}$ is the soil root interface water potential and $\\kappa$ a factor coming from the solution of the Gardner equation with a given coductivity function. It is defined as:\n",
    "\n",
    "\\begin{eqnarray} \n",
    "\\kappa=2 \\frac{\\pi B L K_0 }{1-\\tau} \\left(  \\frac{1}{h_0}   \\right)^{-\\tau}\n",
    "\\end{eqnarray}"
   ]
  },
  {
   "cell_type": "code",
   "execution_count": 1,
   "metadata": {
    "collapsed": false,
    "deletable": true,
    "editable": true
   },
   "outputs": [],
   "source": [
    "from sympy import *\n",
    "from sympy.solvers.inequalities import reduce_inequalities\n",
    "\n",
    "Egardner=Symbol('EG')\n",
    "Ecouvreur=Symbol('EC')\n",
    "PsiL = Symbol('PsiL',real=True, postive=False, nonzero=True)\n",
    "PsiB=Symbol('PsiB',real=True, postive=False, nonzero=True)\n",
    "PsiSRI=Symbol('PsiSRI',real=True, postive=False, nonzero=True)\n",
    "Krs=Symbol('Krs',real=True, postive=True, nonzero=True)\n",
    "kappa=Symbol('kappa',real=True, postive=True, nonzero=True)\n",
    "\n",
    "EG=kappa*(1/PsiB**2-1/PsiSRI**2)\n"
   ]
  },
  {
   "cell_type": "markdown",
   "metadata": {
    "deletable": true,
    "editable": true
   },
   "source": [
    "The Couvreur equation writes\n",
    "\n",
    "\\begin{eqnarray} \n",
    "E= K_{rs} \\left( \\psi_{sri} - \\psi_L \\right),\n",
    "\\end{eqnarray}\n",
    "\n",
    "where $\\psi_L$ is the leaf water potential and $K_{rs}$ the root system conductivity. Typically Couvreur and Gardner can be combined and would result in a 3D surface in the $\\psi_L / \\psi_B / E$ domain. When the two equations are combiend, we can find the surface equation:\n"
   ]
  },
  {
   "cell_type": "code",
   "execution_count": 2,
   "metadata": {
    "collapsed": false,
    "deletable": true,
    "editable": true
   },
   "outputs": [
    {
     "data": {
      "text/plain": [
       "[-PsiSRI*sqrt(kappa/(-Krs*PsiL*PsiSRI**2 + Krs*PsiSRI**3 + kappa)),\n",
       " PsiSRI*sqrt(kappa/(-Krs*PsiL*PsiSRI**2 + Krs*PsiSRI**3 + kappa))]"
      ]
     },
     "execution_count": 2,
     "metadata": {},
     "output_type": "execute_result"
    }
   ],
   "source": [
    "EC=Krs*(PsiSRI-PsiL)\n",
    "\n",
    "solve(Eq(EC,EG),PsiB)"
   ]
  },
  {
   "cell_type": "markdown",
   "metadata": {
    "deletable": true,
    "editable": true
   },
   "source": [
    "We can find the threshold line between the Couvreur and Gardner surfaces by assuming to extreme situations: on one hand,  when soil resistance is negligible, $\\psi_{SRI}$=$\\psi_L$ in Gardner equation. On the other hand, if we assume that root resistance is negligible, $\\psi_{SRI}$=$\\psi_B$ in Couvreur equation. By equaling these two extreme cases and factorize, we find three solutions for \\psi_B$:\n"
   ]
  },
  {
   "cell_type": "code",
   "execution_count": 3,
   "metadata": {
    "collapsed": false,
    "deletable": true,
    "editable": true,
    "scrolled": true
   },
   "outputs": [
    {
     "data": {
      "text/plain": [
       "[PsiL,\n",
       " -(kappa - sqrt(-4*Krs*PsiL**3*kappa + kappa**2))/(2*Krs*PsiL**2),\n",
       " -(kappa + sqrt(-4*Krs*PsiL**3*kappa + kappa**2))/(2*Krs*PsiL**2)]"
      ]
     },
     "execution_count": 3,
     "metadata": {},
     "output_type": "execute_result"
    }
   ],
   "source": [
    "equation=Krs*(PsiB-PsiL)-kappa*(1/PsiB**2-1/PsiL**2)\n",
    "solve(equation,PsiB)"
   ]
  },
  {
   "cell_type": "markdown",
   "metadata": {
    "collapsed": true,
    "deletable": true,
    "editable": true
   },
   "source": [
    "The first solution is $\\psi_L=\\psi_B$ when $E=0$.\n",
    "\n",
    "\n",
    "The two other solutions must lead to negative values larger than $\\psi_L$. When we impose the inequality, we have:\n",
    "\n",
    "\\begin{eqnarray}\n",
    "2K_{rs} \\psi_L^3  + \\kappa <  \\pm  \\sqrt{ - 4K_{rs} \\psi_L^3 \\kappa + \\kappa^2} \n",
    "\\end{eqnarray}\n",
    "\n",
    "which leads to:\n",
    "\n",
    "\\begin{eqnarray}\n",
    "4K_{rs}^2 \\psi_L^6  + \\kappa^2+ 4K_{rs} \\psi_L^3 \\kappa <  \\pm  \\left( - 4K_{rs} \\psi_L^3 \\kappa + \\kappa^2 \\right) \n",
    "\\end{eqnarray}\n",
    "\n",
    "Two wsolutions are:\n",
    "\n",
    "\\begin{eqnarray}\n",
    "4K_{rs}^2 \\psi_L^6  + \\kappa^2+ 4K_{rs} \\psi_L^3 \\kappa <  - 4K_{rs} \\psi_L^3 \\kappa + \\kappa^2 \n",
    "\\end{eqnarray}\n",
    "\n",
    "and\n",
    "\n",
    "\\begin{eqnarray}\n",
    "4K_{rs}^2 \\psi_L^6  + \\kappa^2+ 4K_{rs} \\psi_L^3 \\kappa <   4K_{rs} \\psi_L^3 \\kappa - \\kappa^2 , \n",
    "\\end{eqnarray}\n",
    "\n",
    "which is impossible, as $\\kappa$ is always positive. The threshold line is therefore:\n",
    "\n",
    "\\begin{eqnarray}\n",
    "\\psi_B= -\\frac{ -\\kappa + \\sqrt{-4K_{rs} \\psi_L^3\\kappa + \\kappa ^2}}{2K_{rs} \\psi_L^2 } , \n",
    "\\end{eqnarray}\n",
    "\n",
    "It corresponds to a Transpiration of "
   ]
  },
  {
   "cell_type": "code",
   "execution_count": 12,
   "metadata": {
    "collapsed": false,
    "deletable": true,
    "editable": true
   },
   "outputs": [
    {
     "data": {
      "text/plain": [
       "4*Krs**2*PsiL**4*kappa/(kappa + sqrt(-4*Krs*PsiL**3*kappa + kappa**2))**2 - kappa/PsiL**2"
      ]
     },
     "execution_count": 12,
     "metadata": {},
     "output_type": "execute_result"
    }
   ],
   "source": [
    "E=kappa*(1/PsiB**2-1/PsiL**2)\n",
    "E=E.subs(PsiB,-(kappa + sqrt(-4*Krs*PsiL**3*kappa + kappa**2))/(2*Krs*PsiL**2))\n",
    "simplify(E)\n",
    "\n"
   ]
  },
  {
   "cell_type": "code",
   "execution_count": 7,
   "metadata": {
    "collapsed": false
   },
   "outputs": [
    {
     "data": {
      "text/plain": [
       "Ks*psi0*Piecewise((log(Psi/psi0), Eq(-tau, -1)), ((Psi/psi0)**(-tau + 1)/(-tau + 1), True))"
      ]
     },
     "execution_count": 7,
     "metadata": {},
     "output_type": "execute_result"
    }
   ],
   "source": [
    "\n",
    "\n",
    "conduct=Symbol('conduct')\n",
    "phi=Symbol('phi')\n",
    "psi0=Symbol('psi0')\n",
    "Ks=Symbol('Ks')\n",
    "Psi=Symbol('Psi')\n",
    "tau=Symbol('tau')\n",
    "\n",
    "conduct=Ks*(Psi/psi0)**(-tau)\n",
    "integrate(conduct,Psi)\n"
   ]
  },
  {
   "cell_type": "code",
   "execution_count": null,
   "metadata": {
    "collapsed": true
   },
   "outputs": [],
   "source": []
  },
  {
   "cell_type": "code",
   "execution_count": null,
   "metadata": {
    "collapsed": true
   },
   "outputs": [],
   "source": []
  },
  {
   "cell_type": "code",
   "execution_count": null,
   "metadata": {
    "collapsed": true
   },
   "outputs": [],
   "source": []
  }
 ],
 "metadata": {
  "kernelspec": {
   "display_name": "Python 2",
   "language": "python",
   "name": "python2"
  },
  "language_info": {
   "codemirror_mode": {
    "name": "ipython",
    "version": 2
   },
   "file_extension": ".py",
   "mimetype": "text/x-python",
   "name": "python",
   "nbconvert_exporter": "python",
   "pygments_lexer": "ipython2",
   "version": "2.7.13"
  }
 },
 "nbformat": 4,
 "nbformat_minor": 2
}
