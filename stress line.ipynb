{
 "cells": [
  {
   "cell_type": "markdown",
   "metadata": {},
   "source": [
    "# surface and stress line\n",
    "\n",
    "This explains the analytical development between surfaces and red lines\n",
    "\n",
    "We have two equations describing the soil and root limitation to water flow.\n",
    "\n",
    "The Gardner equation writes\n",
    "\n",
    "\\begin{eqnarray} \\label{eq:gardner}\n",
    "E=\\kappa \\left( 1/h_root^2-1/h_bulk^2 \\right)\n",
    "\\end{eqnarray}\n",
    "\n",
    "\\begin{eqnarray}\n",
    "\\label{eqn:3}\n",
    "\\frac{\\partial \\left[\\left(\\theta+b\\right)c\\right]}{\\partial t}-\\nabla\\cdot\\left(D_{eff}\\nabla c\\right)+\\nabla\\cdot\\left(c\\boldsymbol{u}\\right)= q_{c\\ root-soil}\\\\\n",
    "q_{c\\ root-soil} = \\frac{1}{V_s}\\sum_{i=1}^{n} \\left[- 2 \\pi r_i l_i \\frac{V_m c}{K_m + c}\\right]\\\\\n",
    "c=c_0 \\text{   at   } t=0\\\\\n",
    "D_{eff}\\nabla c+ c\\boldsymbol{u}=0 \\text{   at the top and bottom boundaries} \\\\\n",
    "c = c_0 \\text{   at the sides} \n",
    "\\end{eqnarray}"
   ]
  },
  {
   "cell_type": "code",
   "execution_count": 4,
   "metadata": {
    "collapsed": true
   },
   "outputs": [],
   "source": [
    "from sympy import *\n",
    "\n",
    "E=Symbol('E')\n",
    "PsiL = Symbol('PsiL')\n",
    "PsiB=Symbol('PsiB')\n",
    "Krs=Symbol('Krs')\n",
    "kappa=Symbol('kappa')\n"
   ]
  },
  {
   "cell_type": "code",
   "execution_count": null,
   "metadata": {
    "collapsed": true
   },
   "outputs": [],
   "source": []
  },
  {
   "cell_type": "code",
   "execution_count": null,
   "metadata": {
    "collapsed": true
   },
   "outputs": [],
   "source": []
  },
  {
   "cell_type": "code",
   "execution_count": null,
   "metadata": {
    "collapsed": true
   },
   "outputs": [],
   "source": []
  }
 ],
 "metadata": {
  "kernelspec": {
   "display_name": "Python 3",
   "language": "python",
   "name": "python3"
  },
  "language_info": {
   "codemirror_mode": {
    "name": "ipython",
    "version": 3
   },
   "file_extension": ".py",
   "mimetype": "text/x-python",
   "name": "python",
   "nbconvert_exporter": "python",
   "pygments_lexer": "ipython3",
   "version": "3.5.2"
  }
 },
 "nbformat": 4,
 "nbformat_minor": 2
}
