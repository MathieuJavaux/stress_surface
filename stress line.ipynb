{
 "cells": [
  {
   "cell_type": "markdown",
   "metadata": {
    "deletable": true,
    "editable": true
   },
   "source": [
    "# surface and stress line\n",
    "\n",
    "This explains the analytical development between surfaces and red lines\n",
    "\n",
    "We have two equations describing the soil and root limitation to water flow.\n",
    "\n",
    "The Gardner equation writes:\n",
    "\n",
    "\\begin{eqnarray} \n",
    "E= \\kappa \\left( \\frac{1}{\\psi_b^2} - \\frac{1}{\\psi_{sri}^2} \\right),\n",
    "\\end{eqnarray}\n",
    "\n",
    "where $\\psi_b$ is the bulk soil water potential, $\\psi_{sri}$ is the soil root interface water potential and $\\kappa$ a factor coming from the solution of the Gardner equation with a given coductivity function. It is defined as:\n",
    "\n",
    "\\begin{eqnarray} \n",
    "\\kappa=2 \\frac{\\pi B L K_0 }{1-\\tau} \\left(  \\frac{1}{h_0}   \\right)^{-\\tau}\n",
    "\\end{eqnarray}"
   ]
  },
  {
   "cell_type": "code",
   "execution_count": 23,
   "metadata": {
    "collapsed": false
   },
   "outputs": [],
   "source": [
    "from sympy import *\n",
    "\n",
    "Egardner=Symbol('EG')\n",
    "Ecouvreur=Symbol('EC')\n",
    "PsiL = Symbol('PsiL')\n",
    "PsiB=Symbol('PsiB')\n",
    "PsiSRI=Symbol('PsiSRI')\n",
    "Krs=Symbol('Krs')\n",
    "kappa=Symbol('kappa')\n",
    "\n",
    "EG=kappa*(1/PsiB**2-1/PsiSRI**2)\n"
   ]
  },
  {
   "cell_type": "code",
   "execution_count": 24,
   "metadata": {
    "collapsed": false
   },
   "outputs": [
    {
     "data": {
      "text/plain": [
       "Ks*psi0*Piecewise((log(Psi/psi0), Eq(-tau, -1)), ((Psi/psi0)**(-tau + 1)/(-tau + 1), True))"
      ]
     },
     "execution_count": 24,
     "metadata": {},
     "output_type": "execute_result"
    }
   ],
   "source": [
    "conduct=Symbol('conduct')\n",
    "phi=Symbol('phi')\n",
    "psi0=Symbol('psi0')\n",
    "Ks=Symbol('Ks')\n",
    "Psi=Symbol('Psi')\n",
    "tau=Symbol('tau')\n",
    "\n",
    "conduct=Ks*(Psi/psi0)**(-tau)\n",
    "integrate(conduct,Psi)\n",
    "\n"
   ]
  },
  {
   "cell_type": "markdown",
   "metadata": {},
   "source": [
    "The Couvreur equation writes\n",
    "\n",
    "\\begin{eqnarray} \n",
    "E= K_{rs} \\left( \\psi_{sri} - \\psi_L \\right),\n",
    "\\end{eqnarray}\n",
    "\n",
    "where $\\psi_L$ is the leaf water potential and $K_{rs}$ the root system conductivity. Typically Couvreur and Gardner can be combined and would result in a 3D surface in the $\\psi_L / \\psi_B / E$ domain\n"
   ]
  },
  {
   "cell_type": "code",
   "execution_count": 28,
   "metadata": {
    "collapsed": false
   },
   "outputs": [
    {
     "data": {
      "text/plain": [
       "[PsiL]"
      ]
     },
     "execution_count": 28,
     "metadata": {},
     "output_type": "execute_result"
    }
   ],
   "source": [
    "EC=Krs*(PsiSRI-PsiL)\n",
    "\n",
    "solve(EC,PsiSRI)"
   ]
  },
  {
   "cell_type": "code",
   "execution_count": null,
   "metadata": {
    "collapsed": true
   },
   "outputs": [],
   "source": []
  },
  {
   "cell_type": "markdown",
   "metadata": {},
   "source": []
  },
  {
   "cell_type": "code",
   "execution_count": null,
   "metadata": {
    "collapsed": true
   },
   "outputs": [],
   "source": []
  },
  {
   "cell_type": "code",
   "execution_count": null,
   "metadata": {
    "collapsed": true
   },
   "outputs": [],
   "source": []
  }
 ],
 "metadata": {
  "kernelspec": {
   "display_name": "Python 3",
   "language": "python",
   "name": "python3"
  },
  "language_info": {
   "codemirror_mode": {
    "name": "ipython",
    "version": 3
   },
   "file_extension": ".py",
   "mimetype": "text/x-python",
   "name": "python",
   "nbconvert_exporter": "python",
   "pygments_lexer": "ipython3",
   "version": "3.5.2"
  }
 },
 "nbformat": 4,
 "nbformat_minor": 2
}
